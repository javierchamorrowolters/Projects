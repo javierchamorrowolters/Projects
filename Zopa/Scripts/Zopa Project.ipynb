{
 "cells": [
  {
   "cell_type": "markdown",
   "id": "8a57e004",
   "metadata": {},
   "source": [
    "# Zopa Technical Test\n",
    "\n",
    "There is a need for a rate calculation system allowing prospective borrowers to\n",
    "obtain a quote from our pool of lenders for 36 month loans. This system will \n",
    "take the form of a command-line application.\n",
    "\n",
    "You will be provided with a file containing a list of all the offers being made\n",
    "by the lenders within the system in CSV format, see the example market.csv file\n",
    "provided alongside this specification.\n",
    "\n",
    "You should strive to provide as low a rate to the borrower as is possible to\n",
    "ensure that Zopa's quotes are as competitive as they can be against our\n",
    "competitors'. You should also provide the borrower with the details of the\n",
    "monthly repayment amount and the total repayment amount.\n",
    "\n",
    "Repayment amounts should be displayed to 2 decimal places and the rate of the \n",
    "loan should be displayed to one decimal place.\n",
    "\n",
    "Borrowers should be able to request a loan of any £100 increment between £1000\n",
    "and £15000 inclusive. If the market does not have sufficient offers from\n",
    "lenders to satisfy the loan then the system should inform the borrower that it\n",
    "is not possible to provide a quote at that time.\n",
    "\n",
    "Funcion 2: fill the bucket: simulando que obtienes nuevos inversores.\n",
    "\n",
    "\n",
    "\n",
    "The application should take arguments in the form:\n",
    "\n",
    "    cmd> [application] [market_file] [loan_amount]\n",
    "\n",
    "Example:\n",
    "\n",
    "    cmd> quote.exe market.csv 1500\n",
    "\n",
    "The application should produce output in the form:\n",
    "\n",
    "    cmd> [application] [market_file] [loan_amount]\n",
    "    Requested amount: £XXXX\n",
    "    Rate: X.X%\n",
    "    Monthly repayment: £XXXX.XX\n",
    "    Total repayment: £XXXX.XX\n",
    "\n",
    "Example:\n",
    "\n",
    "\tcmd> quote.exe market.csv 1000\n",
    "\tRequested amount: £1000\n",
    "\tRate: 7.0%\n",
    "\tMonthly repayment: £30.78\n",
    "\tTotal repayment: £1108.10\n",
    "\n",
    "## Remarks\n",
    " \n",
    " * We do not mind what language you chose for your implementation\n",
    " * The monthly and total repayment should use monthly compounding interest\n",
    " * We will review your code and run it against some other test cases to see how\n",
    "   it handles them\n",
    " * If you have any questions then don't hesitate to contact us\n",
    "\n",
    "\n",
    "\n"
   ]
  },
  {
   "cell_type": "markdown",
   "id": "888af423",
   "metadata": {},
   "source": [
    "import pandas as pd\n",
    "import sys\n",
    "sys.path.append('..')\n",
    "#lenders = pd.read_csv(filepath_or_buffer='/Users/Javi/repos/Projects/02. Zopa/Data/MarketDataforTechnicalExercise.csv')\n",
    "lenders = pd.read_csv(filepath_or_buffer='../Data/MarketDataforTechnicalExercise.csv')\n",
    "lenders.sort_values(by='exp_rate', inplace=True)\n",
    "lenders['interest'] = lenders['exp_rate'] * lenders['money_lent']\n",
    "lenders"
   ]
  },
  {
   "cell_type": "code",
   "execution_count": 18,
   "id": "3ade03e5",
   "metadata": {},
   "outputs": [],
   "source": [
    "def loan_request(arg):\n",
    "    import pandas as pd\n",
    "    import sys\n",
    "    global lenders\n",
    "    \n",
    "    lenders = pd.read_csv(filepath_or_buffer='../Data/MarketDataforTechnicalExercise.csv')\n",
    "    lenders.sort_values(by='exp_rate', inplace=True)\n",
    "    lenders['interest'] = lenders['exp_rate'] * lenders['money_lent']\n",
    "    \n",
    "    #answer = input('Loan request £')\n",
    "    #answer = int(answer)\n",
    "    \n",
    "    money_requested = arg\n",
    "    money_lent_total = 0\n",
    "    lenders_count = 0\n",
    "    interest = 0\n",
    "    \n",
    "    if int(arg) not in list(range(1000,15001,100)):\n",
    "        print('Please choose of any £100 increment between £1000 and £15000 inclusive')\n",
    "    elif int(arg) > lenders['money_lent'].sum():\n",
    "        print('Sorry there is not enough money right now, try again later!')\n",
    "    else:    \n",
    "        for i, money in enumerate(lenders['money_lent']):\n",
    "            money_lent_total += money\n",
    "            lenders_count += 1\n",
    "            \n",
    "            if money_lent_total < money_requested:\n",
    "                interest += lenders.iloc[i, 3]\n",
    "    \n",
    "            if money_lent_total == money_requested:\n",
    "                lenders_count += 1\n",
    "                interest += lenders.iloc[i, 3]\n",
    "                lenders.iloc[i,2] = (money_lent_total - money_requested)\n",
    "                break\n",
    "                \n",
    "            if money_lent_total > money_requested:\n",
    "                interest += (money_lent_total - money - money_requested) * lenders.iloc[i, 1] *-1\n",
    "                lenders.iloc[i,2] = (money_lent_total - money_requested)\n",
    "                break\n",
    "                \n",
    "        interest_rate = interest / money_requested *100\n",
    "        repayment_total = money_requested + interest\n",
    "        repayment_monthly = repayment_total/36\n",
    "        \n",
    "        #print('Number of Lenders:',lenders_count)\n",
    "        print('Interest Amount: £ '+ str(interest.round(2)) +\n",
    "              '\\nInterest Rate: '+ str(interest_rate.round(1))+'%'+\n",
    "              '\\n36 Monthly Repayment: £'+ str(repayment_monthly.round(2)) +\n",
    "              '\\nTotal repayment: £'+ str(repayment_total.round(2)))\n",
    "        \n",
    "        lenders = lenders.iloc[(lenders_count-1): , :]\n",
    "        lenders.sort_values(by='exp_rate', inplace=True, ignore_index = True)\n",
    "        lenders.to_csv('../Data/MarketDataforTechnicalExercise.csv', index = False)\n",
    "    "
   ]
  },
  {
   "cell_type": "code",
   "execution_count": 5,
   "id": "1c3b99f4",
   "metadata": {},
   "outputs": [],
   "source": [
    "def test(x=0):\n",
    "    print('I am printing')\n",
    "    r = 'I am returning ' + str(x)\n",
    "    return r"
   ]
  },
  {
   "cell_type": "code",
   "execution_count": 6,
   "id": "dacda839",
   "metadata": {},
   "outputs": [
    {
     "name": "stdout",
     "output_type": "stream",
     "text": [
      "I am printing\n"
     ]
    },
    {
     "data": {
      "text/plain": [
       "'I am returning 1'"
      ]
     },
     "execution_count": 6,
     "metadata": {},
     "output_type": "execute_result"
    }
   ],
   "source": [
    "test(1)"
   ]
  },
  {
   "cell_type": "code",
   "execution_count": 21,
   "id": "0cd04e44",
   "metadata": {},
   "outputs": [
    {
     "name": "stdout",
     "output_type": "stream",
     "text": [
      "Please choose of any £100 increment between £1000 and £15000 inclusive\n"
     ]
    }
   ],
   "source": [
    "loan_request(1090)"
   ]
  },
  {
   "cell_type": "code",
   "execution_count": 22,
   "id": "e3b24c90",
   "metadata": {},
   "outputs": [],
   "source": [
    "def fill_the_bucket_2(n_times=1):\n",
    "    import pandas as pd\n",
    "    import sys\n",
    "\n",
    "    global lenders\n",
    "    \n",
    "    filler = {\n",
    "        'lender_name': ['Louis', 'Maximillian', 'Peter', 'Rose', 'Margarette', 'Alfred', 'Hunter', 'Logan'],\n",
    "        'exp_rate': [0.069, 0.072, 0.088, 0.067, 0.074, 0.075, 0.063, 0.079],\n",
    "        'money_lent': [100, 200, 500, 800, 700, 100, 900, 300],\n",
    "        'interest': [1, 1, 1, 1, 1, 1, 1, 1]\n",
    "    }\n",
    "    filler = pd.DataFrame(filler)\n",
    "    \n",
    "    for i in list(range(n_times)):\n",
    "        lenders = pd.concat([lenders, filler], axis=0)\n",
    "        \n",
    "        \n",
    "    lenders.sort_values(by='exp_rate', inplace=True, ignore_index = True)\n",
    "\n",
    "    lenders.to_csv('../Data/MarketDataforTechnicalExercise.csv', index = False)\n"
   ]
  },
  {
   "cell_type": "code",
   "execution_count": 23,
   "id": "423f1573",
   "metadata": {},
   "outputs": [],
   "source": [
    "fill_the_bucket_2(11)"
   ]
  },
  {
   "cell_type": "code",
   "execution_count": 32,
   "id": "d22630ba",
   "metadata": {},
   "outputs": [
    {
     "name": "stdout",
     "output_type": "stream",
     "text": [
      "Lenders Before\n"
     ]
    },
    {
     "data": {
      "text/html": [
       "<div>\n",
       "<style scoped>\n",
       "    .dataframe tbody tr th:only-of-type {\n",
       "        vertical-align: middle;\n",
       "    }\n",
       "\n",
       "    .dataframe tbody tr th {\n",
       "        vertical-align: top;\n",
       "    }\n",
       "\n",
       "    .dataframe thead th {\n",
       "        text-align: right;\n",
       "    }\n",
       "</style>\n",
       "<table border=\"1\" class=\"dataframe\">\n",
       "  <thead>\n",
       "    <tr style=\"text-align: right;\">\n",
       "      <th></th>\n",
       "      <th>lender_name</th>\n",
       "      <th>exp_rate</th>\n",
       "      <th>money_lent</th>\n",
       "      <th>interest</th>\n",
       "    </tr>\n",
       "  </thead>\n",
       "  <tbody>\n",
       "    <tr>\n",
       "      <th>0</th>\n",
       "      <td>Hunter</td>\n",
       "      <td>0.063</td>\n",
       "      <td>900</td>\n",
       "      <td>56.7</td>\n",
       "    </tr>\n",
       "    <tr>\n",
       "      <th>1</th>\n",
       "      <td>Hunter</td>\n",
       "      <td>0.063</td>\n",
       "      <td>900</td>\n",
       "      <td>56.7</td>\n",
       "    </tr>\n",
       "    <tr>\n",
       "      <th>2</th>\n",
       "      <td>Hunter</td>\n",
       "      <td>0.063</td>\n",
       "      <td>900</td>\n",
       "      <td>56.7</td>\n",
       "    </tr>\n",
       "    <tr>\n",
       "      <th>3</th>\n",
       "      <td>Hunter</td>\n",
       "      <td>0.063</td>\n",
       "      <td>900</td>\n",
       "      <td>56.7</td>\n",
       "    </tr>\n",
       "    <tr>\n",
       "      <th>4</th>\n",
       "      <td>Rose</td>\n",
       "      <td>0.067</td>\n",
       "      <td>800</td>\n",
       "      <td>53.6</td>\n",
       "    </tr>\n",
       "    <tr>\n",
       "      <th>5</th>\n",
       "      <td>Rose</td>\n",
       "      <td>0.067</td>\n",
       "      <td>800</td>\n",
       "      <td>53.6</td>\n",
       "    </tr>\n",
       "    <tr>\n",
       "      <th>6</th>\n",
       "      <td>Rose</td>\n",
       "      <td>0.067</td>\n",
       "      <td>800</td>\n",
       "      <td>53.6</td>\n",
       "    </tr>\n",
       "    <tr>\n",
       "      <th>7</th>\n",
       "      <td>Rose</td>\n",
       "      <td>0.067</td>\n",
       "      <td>800</td>\n",
       "      <td>53.6</td>\n",
       "    </tr>\n",
       "    <tr>\n",
       "      <th>8</th>\n",
       "      <td>Louis</td>\n",
       "      <td>0.069</td>\n",
       "      <td>100</td>\n",
       "      <td>6.9</td>\n",
       "    </tr>\n",
       "    <tr>\n",
       "      <th>9</th>\n",
       "      <td>Louis</td>\n",
       "      <td>0.069</td>\n",
       "      <td>100</td>\n",
       "      <td>6.9</td>\n",
       "    </tr>\n",
       "  </tbody>\n",
       "</table>\n",
       "</div>"
      ],
      "text/plain": [
       "  lender_name  exp_rate  money_lent  interest\n",
       "0      Hunter     0.063         900      56.7\n",
       "1      Hunter     0.063         900      56.7\n",
       "2      Hunter     0.063         900      56.7\n",
       "3      Hunter     0.063         900      56.7\n",
       "4        Rose     0.067         800      53.6\n",
       "5        Rose     0.067         800      53.6\n",
       "6        Rose     0.067         800      53.6\n",
       "7        Rose     0.067         800      53.6\n",
       "8       Louis     0.069         100       6.9\n",
       "9       Louis     0.069         100       6.9"
      ]
     },
     "execution_count": 32,
     "metadata": {},
     "output_type": "execute_result"
    }
   ],
   "source": [
    "print('Lenders Before')\n",
    "lenders.head(10)"
   ]
  },
  {
   "cell_type": "code",
   "execution_count": 33,
   "id": "5128cfc3",
   "metadata": {},
   "outputs": [
    {
     "data": {
      "text/plain": [
       "Index(['lender_name', 'exp_rate', 'money_lent', 'interest'], dtype='object')"
      ]
     },
     "execution_count": 33,
     "metadata": {},
     "output_type": "execute_result"
    }
   ],
   "source": [
    "lenders.columns"
   ]
  },
  {
   "cell_type": "code",
   "execution_count": 24,
   "id": "0a46589d",
   "metadata": {},
   "outputs": [
    {
     "data": {
      "text/plain": [
       "39720"
      ]
     },
     "execution_count": 24,
     "metadata": {},
     "output_type": "execute_result"
    }
   ],
   "source": [
    "lenders['money_lent'].sum()"
   ]
  },
  {
   "cell_type": "markdown",
   "id": "8dbb802c",
   "metadata": {},
   "source": [
    "answer = input('Loan request £')\n",
    "answer = int(answer)\n",
    "if int(answer) not in list(range(1000,15001,100)):\n",
    "    print('Please choose of any £100 increment between £1000 and £15000 inclusive')\n",
    "elif int(answer) > lenders['money_lent'].sum():\n",
    "    print('Sorry there is not enough money right now, try again later!')\n",
    "else:\n",
    "    function(answer)"
   ]
  },
  {
   "cell_type": "markdown",
   "id": "076997f7",
   "metadata": {},
   "source": [
    "fill_the_bucket_2()"
   ]
  },
  {
   "cell_type": "code",
   "execution_count": 36,
   "id": "4e3245f6",
   "metadata": {},
   "outputs": [
    {
     "name": "stdout",
     "output_type": "stream",
     "text": [
      "Lenders After\n"
     ]
    },
    {
     "data": {
      "text/html": [
       "<div>\n",
       "<style scoped>\n",
       "    .dataframe tbody tr th:only-of-type {\n",
       "        vertical-align: middle;\n",
       "    }\n",
       "\n",
       "    .dataframe tbody tr th {\n",
       "        vertical-align: top;\n",
       "    }\n",
       "\n",
       "    .dataframe thead th {\n",
       "        text-align: right;\n",
       "    }\n",
       "</style>\n",
       "<table border=\"1\" class=\"dataframe\">\n",
       "  <thead>\n",
       "    <tr style=\"text-align: right;\">\n",
       "      <th></th>\n",
       "      <th>lender_name</th>\n",
       "      <th>exp_rate</th>\n",
       "      <th>money_lent</th>\n",
       "      <th>interest</th>\n",
       "    </tr>\n",
       "  </thead>\n",
       "  <tbody>\n",
       "    <tr>\n",
       "      <th>0</th>\n",
       "      <td>Margarette</td>\n",
       "      <td>0.074</td>\n",
       "      <td>100</td>\n",
       "      <td>51.8</td>\n",
       "    </tr>\n",
       "    <tr>\n",
       "      <th>1</th>\n",
       "      <td>Margarette</td>\n",
       "      <td>0.074</td>\n",
       "      <td>700</td>\n",
       "      <td>51.8</td>\n",
       "    </tr>\n",
       "    <tr>\n",
       "      <th>2</th>\n",
       "      <td>Alfred</td>\n",
       "      <td>0.075</td>\n",
       "      <td>100</td>\n",
       "      <td>7.5</td>\n",
       "    </tr>\n",
       "    <tr>\n",
       "      <th>3</th>\n",
       "      <td>Alfred</td>\n",
       "      <td>0.075</td>\n",
       "      <td>100</td>\n",
       "      <td>7.5</td>\n",
       "    </tr>\n",
       "    <tr>\n",
       "      <th>4</th>\n",
       "      <td>Alfred</td>\n",
       "      <td>0.075</td>\n",
       "      <td>100</td>\n",
       "      <td>7.5</td>\n",
       "    </tr>\n",
       "    <tr>\n",
       "      <th>5</th>\n",
       "      <td>Alfred</td>\n",
       "      <td>0.075</td>\n",
       "      <td>100</td>\n",
       "      <td>7.5</td>\n",
       "    </tr>\n",
       "    <tr>\n",
       "      <th>6</th>\n",
       "      <td>Logan</td>\n",
       "      <td>0.079</td>\n",
       "      <td>300</td>\n",
       "      <td>23.7</td>\n",
       "    </tr>\n",
       "    <tr>\n",
       "      <th>7</th>\n",
       "      <td>Logan</td>\n",
       "      <td>0.079</td>\n",
       "      <td>300</td>\n",
       "      <td>23.7</td>\n",
       "    </tr>\n",
       "    <tr>\n",
       "      <th>8</th>\n",
       "      <td>Logan</td>\n",
       "      <td>0.079</td>\n",
       "      <td>300</td>\n",
       "      <td>23.7</td>\n",
       "    </tr>\n",
       "    <tr>\n",
       "      <th>9</th>\n",
       "      <td>Logan</td>\n",
       "      <td>0.079</td>\n",
       "      <td>300</td>\n",
       "      <td>23.7</td>\n",
       "    </tr>\n",
       "  </tbody>\n",
       "</table>\n",
       "</div>"
      ],
      "text/plain": [
       "  lender_name  exp_rate  money_lent  interest\n",
       "0  Margarette     0.074         100      51.8\n",
       "1  Margarette     0.074         700      51.8\n",
       "2      Alfred     0.075         100       7.5\n",
       "3      Alfred     0.075         100       7.5\n",
       "4      Alfred     0.075         100       7.5\n",
       "5      Alfred     0.075         100       7.5\n",
       "6       Logan     0.079         300      23.7\n",
       "7       Logan     0.079         300      23.7\n",
       "8       Logan     0.079         300      23.7\n",
       "9       Logan     0.079         300      23.7"
      ]
     },
     "execution_count": 36,
     "metadata": {},
     "output_type": "execute_result"
    }
   ],
   "source": [
    "print('Lenders After')\n",
    "lenders.head(10)"
   ]
  },
  {
   "cell_type": "code",
   "execution_count": 37,
   "id": "0111ee2c",
   "metadata": {},
   "outputs": [
    {
     "data": {
      "text/plain": [
       "Index(['lender_name', 'exp_rate', 'money_lent', 'interest'], dtype='object')"
      ]
     },
     "execution_count": 37,
     "metadata": {},
     "output_type": "execute_result"
    }
   ],
   "source": [
    "lenders.columns"
   ]
  },
  {
   "cell_type": "code",
   "execution_count": 38,
   "id": "5e2f4604",
   "metadata": {},
   "outputs": [
    {
     "data": {
      "text/plain": [
       "12320"
      ]
     },
     "execution_count": 38,
     "metadata": {},
     "output_type": "execute_result"
    }
   ],
   "source": [
    "lenders['money_lent'].sum()"
   ]
  },
  {
   "cell_type": "markdown",
   "id": "b929db23",
   "metadata": {},
   "source": [
    "def fill_the_bucket():\n",
    "    import pandas as pd\n",
    "    lenders = pd.read_csv(filepath_or_buffer='/Users/Javi/repos/Projects/02. Zopa/Data/MarketDataforTechnicalExercise.csv')\n",
    "\n",
    "    filler = {\n",
    "        'lender_name': ['Louis', 'Maximillian', 'Peter', 'Rose', 'Margarette', 'Alfred', 'Hunter', 'Logan'],\n",
    "        'exp_rate': [0.069, 0.072, 0.088, 0.67, 0.074, 0.075, 0.069, 0.069],\n",
    "        'money_lent': [100, 200, 500, 1200, 700, 100, 200, 300]\n",
    "    }\n",
    "    filler = pd.DataFrame(filler)\n",
    "    filler.to_csv('/Users/Javi/repos/Projects/02. Zopa/Data/MarketDataforTechnicalExercise.csv', mode='a', ignore_index=True, header=False)\n",
    "    print('Añadidas')\n",
    "    lenders.sort_values(by='exp_rate', inplace=True)\n",
    "    lenders['interest'] = lenders['exp_rate'] * lenders['money_lent']\n",
    "    print(lenders)\n"
   ]
  },
  {
   "cell_type": "markdown",
   "id": "020bb478",
   "metadata": {},
   "source": [
    "\n",
    "    \n",
    "'''\n",
    "# read existing data\n",
    "df_old = pd.read_csv('C:/old.csv')\n",
    "\n",
    "# Assign new data to a list.\n",
    "# Note that the new data is written up as\n",
    "# a list in the first element of a another list.\n",
    "# Hence the double brackets.\n",
    "# This way, the data is added as a row.\n",
    "# If you use single brackets, pandas interprets\n",
    "# the data as a column when added to a dataframe.\n",
    "newData = [[5,6]]\n",
    "\n",
    "# get column names of your existing data\n",
    "colNames = df_old.columns\n",
    "\n",
    "# make dataframe of new data that can be\n",
    "# easily appended to your old data\n",
    "df_new = pd.DataFrame(data=newData, columns=colNames)\n",
    "\n",
    "# concatenate old and new\n",
    "df_complete = pd.concat([df_old, df_new], axis = 0)\n",
    "\n",
    "# write your complete dataset to a new csv.\n",
    "df_complete.to_csv('data_new.csv', index=False)\n",
    "'''"
   ]
  },
  {
   "cell_type": "markdown",
   "id": "ae803b01",
   "metadata": {},
   "source": [
    "filler = {\n",
    "        'lender_name': ['Louis', 'Maximillian', 'Peter', 'Rose', 'Margarette', 'Alfred', 'Hunter', 'Logan'],\n",
    "        'exp_rate': [0.069, 0.072, 0.088, 0.127, 0.074, 0.075, 0.069, 0.069],\n",
    "        'money_lent': [100, 200, 500, 1200, 700, 100, 200, 300]\n",
    "    }\n",
    "filler = pd.DataFrame(filler)\n",
    "filler"
   ]
  },
  {
   "cell_type": "markdown",
   "id": "91d41c6d",
   "metadata": {},
   "source": [
    "fill_the_bucket_2()"
   ]
  },
  {
   "cell_type": "markdown",
   "id": "7ce624c3",
   "metadata": {},
   "source": [
    "# Apuntes\n",
    "\n",
    "#delete\n",
    "lenders.drop([0,1], inplace=True)\n",
    "lenders.head()\n",
    "\n",
    "for lender in list(range((lenders_count))):\n",
    "    print(lender)\n",
    "    lenders.drop([0,1], axis=0, inplace=True)\n",
    "\n",
    "lenders.head()\n",
    "\n",
    "#update s.update(pd.Series(['d', 'e'], index=[0, 2])) df.ix['x','C']\n",
    "lenders.iloc[0,2] = 1\n",
    "\n",
    "#update\n",
    "lenders['money_lent'][0,1], = money_lent_total - ans (inplace=True)\n",
    "\n",
    "lenders.head()\n",
    "\n",
    "def lender_choosing(ans):\n",
    "    money_lent_total = 0\n",
    "    lenders_count = 0\n",
    "    interest = 0\n",
    "    for money in lenders['money_lent']:\n",
    "        money_lent_total += money\n",
    "        lenders_count += 1\n",
    "        interest += (money * lenders['exp_rate']) #hay que especificar el row?\n",
    "        if money_lent_total < ans:\n",
    "            lenders.drop([0,1], inplace=True)\n",
    "        elif money_lent_total >= ans:\n",
    "        lenders['money_lent'][0,1], = money_lent_total - ans (inplace=True)\n",
    "            break\n",
    "        else:\n",
    "            pass\n",
    "            \n",
    "            \n",
    "\n",
    "\n",
    "\n",
    "https://stackoverflow.com/questions/40498956/python-pandas-new-row-attached-to-last-one-in-csv-when-using-to-csv-in-append-mo\n",
    "\n",
    "# imports\n",
    "import pandas as pd\n",
    "\n",
    "# read existing data\n",
    "df_old = pd.read_csv('C:/old.csv')\n",
    "\n",
    "# Assign new data to a list.\n",
    "# Note that the new data is written up as\n",
    "# a list in the first element of a another list.\n",
    "# Hence the double brackets.\n",
    "# This way, the data is added as a row.\n",
    "# If you use single brackets, pandas interprets\n",
    "# the data as a column when added to a dataframe.\n",
    "newData = [[5,6]]\n",
    "\n",
    "# get column names of your existing data\n",
    "colNames = df_old.columns\n",
    "\n",
    "# make dataframe of new data that can be\n",
    "# easily appended to your old data\n",
    "df_new = pd.DataFrame(data=newData, columns=colNames)\n",
    "\n",
    "# concatenate old and new\n",
    "df_complete = pd.concat([df_old, df_new], axis = 0)\n",
    "\n",
    "# write your complete dataset to a new csv.\n",
    "df_complete.to_csv('data_new.csv', index=False)\n",
    "\n",
    "error_bad_lines=False\n",
    "\n",
    "\n",
    "def fill_the_bucket_2(n_times=1):\n",
    "    import pandas as pd\n",
    "    \n",
    "    global lenders\n",
    "    \n",
    "    filler = {\n",
    "        'lender_name': ['Louis', 'Maximillian', 'Peter', 'Rose', 'Margarette', 'Alfred', 'Hunter', 'Logan'],\n",
    "        'exp_rate': [0.069, 0.072, 0.088, 0.067, 0.074, 0.075, 0.063, 0.079],\n",
    "        'money_lent': [100, 200, 500, 800, 700, 100, 900, 300],\n",
    "        'interest': [1, 1, 1, 1, 1, 1, 1, 1]\n",
    "    }\n",
    "    filler = pd.DataFrame(filler)\n",
    "    \n",
    "    lenders = pd.concat([lenders, filler], axis=0)\n",
    "    lenders.sort_values(by='exp_rate', inplace=True, ignore_index = True)\n",
    "\n",
    "    lenders.to_csv('/Users/Javi/repos/Projects/02. Zopa/Data/MarketDataforTechnicalExercise.csv', index = False)"
   ]
  }
 ],
 "metadata": {
  "kernelspec": {
   "display_name": "Python 3 (ipykernel)",
   "language": "python",
   "name": "python3"
  },
  "language_info": {
   "codemirror_mode": {
    "name": "ipython",
    "version": 3
   },
   "file_extension": ".py",
   "mimetype": "text/x-python",
   "name": "python",
   "nbconvert_exporter": "python",
   "pygments_lexer": "ipython3",
   "version": "3.9.7"
  }
 },
 "nbformat": 4,
 "nbformat_minor": 5
}
